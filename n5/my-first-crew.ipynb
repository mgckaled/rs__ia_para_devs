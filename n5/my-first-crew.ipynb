{
 "cells": [
  {
   "cell_type": "markdown",
   "metadata": {},
   "source": [
    "## Usando arquivo .env para controlar variaveis de ambiente\n",
    "Para evitar exposição da chave `OPENAI_API_KEY` optei por utilizar arquivo `.env` com a informação da chave.\n",
    "\n",
    "Para seguir o mesmo método basta criar um arquivo `.env` no mesmo diretório do arquivo `my-first-crew.ipynb`.\n",
    "A importação da chave será feita através da célula abaixo que faz a instalação de um biblioteca para carregar\n",
    "os valores do arquivo `.env`."
   ]
  },
  {
   "cell_type": "markdown",
   "metadata": {},
   "source": [
    "### Introdução ao CrewAI\n",
    "\n",
    "Nesta aula, vamos explorar o CrewAI utilizando um Jupyter Notebook. Começamos importando as principais bibliotecas necessárias, como agent, task e crew. O foco é criar um agente que, com a ajuda de três componentes — um planejador, um escritor e um editor —, será capaz de gerar artigos. Também abordamos a configuração da chave de API da OpenAI, essencial para o funcionamento do nosso projeto. É uma introdução prática ao uso de múltiplos agentes em tarefas de escrita."
   ]
  },
  {
   "cell_type": "code",
   "execution_count": null,
   "metadata": {},
   "outputs": [],
   "source": [
    "from crewai import Agent, Task, Crew\n",
    "from IPython.display import Markdown\n",
    "import dotenv\n",
    "\n",
    "import os"
   ]
  },
  {
   "cell_type": "code",
   "execution_count": null,
   "metadata": {},
   "outputs": [],
   "source": [
    "os.environ['OPENAI_API_KEY'] = \"\"\n",
    "os.environ['OPENAI_MODEL_NAME'] = \"gpt-3.5-turbo\""
   ]
  },
  {
   "cell_type": "markdown",
   "metadata": {},
   "source": [
    "### Criando agentes\n",
    "\n",
    "Nesta aula, introduzimos a criação de agentes usando a CrewAI. Começamos com o \"Planner\", que tem um papel de planejador de conteúdo, com o objetivo de gerar conteúdo engajador sobre um tópico específico. Em seguida, discutimos o \"Writer\", que escreve opiniões baseadas no trabalho do Planner. Por fim, apresentamos o \"Editor\", responsável por alinhar o texto ao estilo da organização. Cada agente possui um papel, objetivo e backstory definidos, além de parâmetros como \"allowDelegation\" e \"verbose\"."
   ]
  },
  {
   "cell_type": "markdown",
   "metadata": {},
   "source": [
    "**Grupo de agente para escrever artigos**\n",
    "\n",
    "1. Planner - Planejador do artigo\n",
    "2. Writer - Escrito do artigo\n",
    "3. Editor - Editor do artigo"
   ]
  },
  {
   "cell_type": "code",
   "execution_count": 21,
   "metadata": {},
   "outputs": [],
   "source": [
    "planner = Agent(\n",
    "    role=\"Content Planner\",\n",
    "    goal=\"Plan engaging content about the {topic}\",\n",
    "    backstory=\"\"\"You're working on planning a blog post article about\n",
    "    the topic: {topic}.\n",
    "    You collect information that helps the audience learn something\n",
    "    and mak informed decisions.\n",
    "    Your work is the basics for the Content Writer to write article on this topic.\n",
    "    \"\"\",\n",
    "    allow_delegation=False,\n",
    "    verbose=True,\n",
    ")"
   ]
  },
  {
   "cell_type": "markdown",
   "metadata": {},
   "source": [
    "Você está criando um objeto `Agent` chamado `writer` utilizando a dependência `crewai`.\n",
    "\n",
    "**Classe Agent**: A classe `Agent` não é uma classe built-in do Python, então é provável que seja uma classe personalizada definida em outro lugar no seu código. A classe `Agent` epresenta uma entidade que realiza tarefas ou ter certas características.\n",
    "\n",
    "**Argumentos de palavra-chave**: O objeto `Agent` é criado com vários argumentos de palavra-chave:\n",
    "\n",
    "* `role`: uma string que indica o papel do agente, que é definido como `\"Content Writer\"`.\n",
    "* `goal`: uma string que descreve o objetivo do agente, que é uma string de template que inclui um placeholder `{topic}`.\n",
    "* `backstory`: uma string multilinhas que fornece contexto sobre o histórico e comportamento do agente. Essa string também inclui um placeholder `{topic}`.\n",
    "* `allow_delegation`: um flag booleano definido como `False`, que controla se o agente pode delegar tarefas para outros.\n",
    "* `verbose`: um flag booleano definido como `True`, que controla o nível de saída ou logging do agente.\n",
    "\n",
    "**Placeholders**: As strings `goal` e `backstory` contêm placeholders `{topic}`, o que sugere que esses valores serão substituídos por nomes de tópicos reais quando o agente for utilizado."
   ]
  },
  {
   "cell_type": "code",
   "execution_count": 22,
   "metadata": {},
   "outputs": [],
   "source": [
    "writer = Agent(\n",
    "    role=\"Content Writer\",\n",
    "    goal=\"Write insightfull and factually accurate opinion piece about the topic: {topic}\",\n",
    "    backstory=\"\"\"You're working on writing and opinion about the topic: {topic}.\n",
    "    You base your opinion on the work of the Conntent Planner, who provides an outline and relevant context\n",
    "    about the topic. You follow the main objectives and direction of the outline, as provided by the Content Planner.\n",
    "    You also provide objective and impartial insights and back them with information provided the Content Planner.\n",
    "    \"\"\",\n",
    "    allow_delegation=False,\n",
    "    verbose=True,\n",
    ")"
   ]
  },
  {
   "cell_type": "markdown",
   "metadata": {},
   "source": [
    " O código define um agente `writer` utilizando a biblioteca `crewai`. Esse agente tem o papel de um **redator de conteúdo** com o objetivo de escrever um artigo opinativo preciso e informativo sobre um determinado **tópico**.  \n",
    "\n",
    "- **`role`**: Define o papel do agente como \"Content Writer\".  \n",
    "- **`goal`**: Especifica o objetivo do agente, que é escrever um artigo opinativo baseado no tópico fornecido (`{topic}`).  \n",
    "- **`backstory`**: Descreve o contexto do agente, informando que ele baseia sua opinião no trabalho do \"Content Planner\", que fornece um esboço e informações relevantes. O agente deve seguir as diretrizes estabelecidas pelo \"Content Planner\" e fornecer insights imparciais com embasamento factual.  \n",
    "- **`allow_delegation=False`**: Impede que o agente delegue tarefas para outros agentes.  \n",
    "- **`verbose=True`**: Habilita a exibição detalhada da execução do agente.  \n",
    "\n",
    "Esse agente é útil em fluxos de trabalho automatizados para geração de conteúdo estruturado e fundamentado."
   ]
  },
  {
   "cell_type": "code",
   "execution_count": 23,
   "metadata": {},
   "outputs": [],
   "source": [
    "editor = Agent(\n",
    "    role=\"Editor\",\n",
    "    goal=\"Edit a given blog post article to align with writing style of the organization.\",\n",
    "    backstory=\"\"\"You're are a editor that receives a blog post from the Content Writer.\n",
    "    Your goal is to review the blog post to ensure that it follow a journalistic best practices.\n",
    "    \"\"\",\n",
    "    allow_delegation=False,\n",
    "    verbose=True,\n",
    ")"
   ]
  },
  {
   "cell_type": "markdown",
   "metadata": {},
   "source": [
    "O código define um agente `editor` utilizando a biblioteca `crewai`. Esse agente tem o papel de um **editor** responsável por revisar e editar um artigo de blog para garantir que ele esteja alinhado com o estilo da organização.  \n",
    "\n",
    "- **`role`**: Define o papel do agente como \"Editor\".  \n",
    "- **`goal`**: Especifica que o objetivo do agente é editar um artigo de blog para que ele siga o estilo de escrita da organização.  \n",
    "- **`backstory`**: Descreve que o agente recebe um artigo do \"Content Writer\" e deve revisá-lo garantindo que siga as melhores práticas jornalísticas.  \n",
    "- **`allow_delegation=False`**: Impede que o agente delegue tarefas para outros agentes.  \n",
    "- **`verbose=True`**: Habilita a exibição detalhada da execução do agente.  \n",
    "\n",
    "Esse agente é útil para garantir a qualidade e padronização do conteúdo antes da publicação."
   ]
  },
  {
   "cell_type": "markdown",
   "metadata": {},
   "source": [
    "### Criando tasks\n",
    "\n",
    "Nesta aula, vamos explorar como criar um plano de conteúdo eficaz para blogs. Começamos identificando o público-alvo, considerando seus interesses e desafios. Em seguida, elaboramos um esboço detalhado que inclui introdução, pontos principais e uma chamada para ação, além de otimização para SEO. Depois, passamos para a redação do post, garantindo que ele tenha uma estrutura envolvente. Por fim, discutimos a importância da edição para corrigir erros e alinhar o texto à voz da marca."
   ]
  },
  {
   "cell_type": "code",
   "execution_count": 24,
   "metadata": {},
   "outputs": [],
   "source": [
    "plan = Task(\n",
    "    description=(\n",
    "        \"1. Prioritaze the last trends, key players, and noteworthy news on {topic}\"\n",
    "        \"2. Identify the target audience, considering their interests and pain points.\"\n",
    "        \"3. Develop a detaild content outline including an introduction, key points, and call to action.\"\n",
    "        \"4. Include SEO keyword and relevant data or sources.\"\n",
    "    ),\n",
    "    expected_output=\"A comprehensive content plan document with an outline, audience analysis, SEO keywords and resources\",\n",
    "    agent=planner,\n",
    ")"
   ]
  },
  {
   "cell_type": "markdown",
   "metadata": {},
   "source": [
    "O código define uma **tarefa** (`plan`) usando a biblioteca `crewai`. Essa tarefa especifica um conjunto de ações a serem realizadas por um agente chamado `planner`.  \n",
    "\n",
    "- **`description`**: Lista os passos que a tarefa deve seguir:  \n",
    "  1. Priorizar tendências, principais atores e notícias relevantes sobre o tópico (`{topic}`).  \n",
    "  2. Identificar o público-alvo, considerando seus interesses e desafios.  \n",
    "  3. Criar um esboço detalhado do conteúdo, incluindo introdução, pontos principais e chamada para ação.  \n",
    "  4. Incluir palavras-chave de SEO e dados ou fontes relevantes.  \n",
    "\n",
    "- **`expected_output`**: Define a saída esperada da tarefa, que é um **documento de planejamento de conteúdo** contendo:  \n",
    "  - Estrutura do conteúdo (outline).  \n",
    "  - Análise do público-alvo.  \n",
    "  - Palavras-chave de SEO.  \n",
    "  - Fontes e recursos relevantes.  \n",
    "\n",
    "- **`agent=planner`**: Especifica que o agente responsável pela execução da tarefa é `planner`.  \n",
    "\n",
    "Esse código é útil para automatizar a criação de planos de conteúdo bem estruturados e otimizados para SEO."
   ]
  },
  {
   "cell_type": "code",
   "execution_count": 25,
   "metadata": {},
   "outputs": [],
   "source": [
    "write = Task(\n",
    "    description=(\n",
    "        \"1. Use the content plan to craft a compelling blog post on topic: {topic}.\"\n",
    "        \"2. Incorporate the SEO keyword naturally.\"\n",
    "        \"3. Sections/Subtitles are properly named in engaging manner.\"\n",
    "        \"4. Ensure the post is scructured with and engaging introduction, insightfull body and summarization conclusion.\"\n",
    "    ),\n",
    "    expected_output=\"A well-writen blog post in Markdown format, ready for publication, each section should have 2 or 3 paragraphs\",\n",
    "    agent=writer,\n",
    ")"
   ]
  },
  {
   "cell_type": "markdown",
   "metadata": {},
   "source": [
    "O código define uma **tarefa** (`write`) usando a biblioteca `crewai`. Essa tarefa instrui o agente `writer` a escrever um **artigo de blog** seguindo um plano de conteúdo.  \n",
    "\n",
    "- **`description`**: Lista os passos que a tarefa deve seguir:  \n",
    "  1. Usar o plano de conteúdo para criar um blog post envolvente sobre o tópico (`{topic}`).  \n",
    "  2. Incorporar palavras-chave de SEO de forma natural.  \n",
    "  3. Nomear seções e subtítulos de maneira atrativa.  \n",
    "  4. Estruturar o artigo com:  \n",
    "     - **Introdução envolvente**  \n",
    "     - **Corpo informativo e perspicaz**  \n",
    "     - **Conclusão que resume os principais pontos**  \n",
    "\n",
    "- **`expected_output`**: Define que a saída esperada é um **artigo bem escrito em formato Markdown**, pronto para publicação. Cada seção deve conter **2 ou 3 parágrafos**.  \n",
    "\n",
    "- **`agent=writer`**: Define que o agente responsável por essa tarefa é `writer`.  \n",
    "\n",
    "Esse código automatiza a geração de artigos otimizados para SEO, garantindo uma estrutura coesa e envolvente."
   ]
  },
  {
   "cell_type": "code",
   "execution_count": 26,
   "metadata": {},
   "outputs": [],
   "source": [
    "edit = Task(\n",
    "    description=\"Proofread the given blog post for grammatical errors and aligment with the brand's voices.\",\n",
    "    expected_output=\"A well-writen blog post in Markdown format, ready for publication, each section should have 2 or 3 paragraphs\",\n",
    "    agent=editor,\n",
    ")"
   ]
  },
  {
   "cell_type": "markdown",
   "metadata": {},
   "source": [
    "O código define uma **tarefa** (`edit`) utilizando a biblioteca `crewai`. Essa tarefa instrui o agente `editor` a revisar um **artigo de blog** para corrigir erros gramaticais e garantir alinhamento com a identidade da marca.  \n",
    "\n",
    "- **`description`**: Define a tarefa de **revisão** do artigo, com foco em:  \n",
    "  - Correção de erros gramaticais.  \n",
    "  - Ajuste do tom e estilo para alinhamento com a voz da marca.  \n",
    "\n",
    "- **`expected_output`**: Define que a saída esperada é um **artigo revisado em formato Markdown**, pronto para publicação. Cada seção deve conter **2 ou 3 parágrafos**.  \n",
    "\n",
    "- **`agent=editor`**: Especifica que o agente responsável por essa tarefa é `editor`.  \n",
    "\n",
    "Esse código garante que o conteúdo final seja **bem escrito, coerente e alinhado à identidade da marca** antes da publicação."
   ]
  },
  {
   "cell_type": "markdown",
   "metadata": {},
   "source": [
    "### Criando e utilizando a Crew\n",
    "\n",
    "Nesta aula, criamos uma \"crew\" de agentes, que é um grupo de múltiplos agentes, cada um com suas tarefas específicas: Planner, Writer e Editor. Definimos os parâmetros e iniciamos o processo com um tópico, como inteligência artificial. Acompanhamos o debug de cada etapa, mostrando como os agentes colaboram para construir um documento. Utilizamos o CrewAI para gerar um artigo de forma rápida. Nas próximas aulas, vamos explorar como integrar ferramentas externas."
   ]
  },
  {
   "cell_type": "code",
   "execution_count": 29,
   "metadata": {},
   "outputs": [
    {
     "name": "stderr",
     "output_type": "stream",
     "text": [
      "2025-02-10 22:54:53,475 - 140519159077760 - __init__.py-__init__:537 - WARNING: Overriding of current TracerProvider is not allowed\n"
     ]
    }
   ],
   "source": [
    "crew = Crew(\n",
    "    agents=[planner, writer, editor],\n",
    "    tasks=[plan, write, edit],\n",
    "    verbose=2,\n",
    ")"
   ]
  },
  {
   "cell_type": "markdown",
   "metadata": {},
   "source": [
    "O código define uma **equipe** (`crew`) utilizando a biblioteca `crewai`, composta por agentes e tarefas, e configura o nível de verbosidade para a execução.  \n",
    "\n",
    "- **`agents=[planner, writer, editor]`**: Define os agentes que farão parte da equipe:  \n",
    "  - `planner`: Responsável por criar o plano de conteúdo.  \n",
    "  - `writer`: Responsável por escrever o artigo baseado no plano.  \n",
    "  - `editor`: Responsável por revisar o artigo em termos de gramática e alinhamento com a voz da marca.  \n",
    "\n",
    "- **`tasks=[plan, write, edit]`**: Define as tarefas que a equipe irá executar:  \n",
    "  - `plan`: Criação do plano de conteúdo.  \n",
    "  - `write`: Redação do artigo de blog com base no plano.  \n",
    "  - `edit`: Revisão do artigo para correção de erros e adequação ao tom da marca.  \n",
    "\n",
    "- **`verbose=2`**: Configura o nível de verbosidade, o que significa que será exibida uma quantidade detalhada de informações sobre o processo de execução dos agentes e tarefas.  \n",
    "\n",
    "Esse código organiza e executa um fluxo de trabalho coordenado entre os agentes para criação de conteúdo, desde o planejamento até a revisão final."
   ]
  },
  {
   "cell_type": "code",
   "execution_count": 30,
   "metadata": {},
   "outputs": [
    {
     "name": "stdout",
     "output_type": "stream",
     "text": [
      "\u001b[1m\u001b[95m [DEBUG]: == Working Agent: Content Planner\u001b[00m\n",
      "\u001b[1m\u001b[95m [INFO]: == Starting Task: 1. Prioritaze the last trends, key players, and noteworthy news on Artificial Inteligence2. Identify the target audience, considering their interests and pain points.3. Develop a detaild content outline including an introduction, key points, and call to action.4. Include SEO keyword and relevant data or sources.\u001b[00m\n",
      "\n",
      "\n",
      "\u001b[1m> Entering new CrewAgentExecutor chain...\u001b[0m\n",
      "\u001b[32;1m\u001b[1;3mI now can give a great answer\n",
      "\n",
      "Final Answer:\n",
      "Content Plan: \n",
      "Title: \"The Latest Trends in Artificial Intelligence: A Comprehensive Guide\"\n",
      "Outline:\n",
      "I. Introduction\n",
      "- Brief overview of the importance of Artificial Intelligence (AI) in today's world\n",
      "- Introduction to key players and recent advancements in AI technology\n",
      "II. Key Trends in AI\n",
      "- Analysis of the latest trends in AI, including machine learning, natural language processing, and robotics\n",
      "- Discussion on how AI is being used in various industries such as healthcare, finance, and marketing\n",
      "III. Key Players in AI\n",
      "- Overview of leading companies in the AI industry, such as Google, Amazon, and IBM\n",
      "- Analysis of their contributions to AI research and development\n",
      "IV. Noteworthy News in AI\n",
      "- Highlighting recent news and breakthroughs in AI technology\n",
      "- Discussing the implications of these advancements on society and the economy\n",
      "V. Target Audience Analysis\n",
      "- Identifying the target audience as professionals in the technology sector, students studying AI, and business owners interested in AI applications\n",
      "- Addressing their interests in staying updated on the latest trends and news in AI\n",
      "- Acknowledging their pain points in understanding complex AI concepts and staying ahead in a rapidly evolving field\n",
      "VI. SEO Keywords\n",
      "- Artificial Intelligence trends\n",
      "- Key players in AI\n",
      "- Latest news in AI\n",
      "- AI technology advancements\n",
      "VII. Resources\n",
      "- Include links to reputable sources such as research papers, industry reports, and news articles on AI\n",
      "- Provide statistics and data to support key points in the article\n",
      "VIII. Call to Action\n",
      "- Encourage readers to subscribe for more updates on AI trends and news\n",
      "- Prompt them to share the article with their network to spread awareness about AI advancements\n",
      "\n",
      "By following this comprehensive content plan, the blog post on the latest trends in Artificial Intelligence will engage the target audience, provide valuable insights, and drive traffic to the website.\u001b[0m\n",
      "\n",
      "\u001b[1m> Finished chain.\u001b[0m\n",
      "\u001b[1m\u001b[92m [DEBUG]: == [Content Planner] Task output: Content Plan: \n",
      "Title: \"The Latest Trends in Artificial Intelligence: A Comprehensive Guide\"\n",
      "Outline:\n",
      "I. Introduction\n",
      "- Brief overview of the importance of Artificial Intelligence (AI) in today's world\n",
      "- Introduction to key players and recent advancements in AI technology\n",
      "II. Key Trends in AI\n",
      "- Analysis of the latest trends in AI, including machine learning, natural language processing, and robotics\n",
      "- Discussion on how AI is being used in various industries such as healthcare, finance, and marketing\n",
      "III. Key Players in AI\n",
      "- Overview of leading companies in the AI industry, such as Google, Amazon, and IBM\n",
      "- Analysis of their contributions to AI research and development\n",
      "IV. Noteworthy News in AI\n",
      "- Highlighting recent news and breakthroughs in AI technology\n",
      "- Discussing the implications of these advancements on society and the economy\n",
      "V. Target Audience Analysis\n",
      "- Identifying the target audience as professionals in the technology sector, students studying AI, and business owners interested in AI applications\n",
      "- Addressing their interests in staying updated on the latest trends and news in AI\n",
      "- Acknowledging their pain points in understanding complex AI concepts and staying ahead in a rapidly evolving field\n",
      "VI. SEO Keywords\n",
      "- Artificial Intelligence trends\n",
      "- Key players in AI\n",
      "- Latest news in AI\n",
      "- AI technology advancements\n",
      "VII. Resources\n",
      "- Include links to reputable sources such as research papers, industry reports, and news articles on AI\n",
      "- Provide statistics and data to support key points in the article\n",
      "VIII. Call to Action\n",
      "- Encourage readers to subscribe for more updates on AI trends and news\n",
      "- Prompt them to share the article with their network to spread awareness about AI advancements\n",
      "\n",
      "By following this comprehensive content plan, the blog post on the latest trends in Artificial Intelligence will engage the target audience, provide valuable insights, and drive traffic to the website.\n",
      "\n",
      "\u001b[00m\n",
      "\u001b[1m\u001b[95m [DEBUG]: == Working Agent: Content Writer\u001b[00m\n",
      "\u001b[1m\u001b[95m [INFO]: == Starting Task: 1. Use the content plan to craft a compelling blog post on topic: Artificial Inteligence.2. Incorporate the SEO keyword naturally.3. Sections/Subtitles are properly named in engaging manner.4. Ensure the post is scructured with and engaging introduction, insightfull body and summarization conclusion.\u001b[00m\n",
      "\n",
      "\n",
      "\u001b[1m> Entering new CrewAgentExecutor chain...\u001b[0m\n",
      "\u001b[32;1m\u001b[1;3mI have a clear understanding of the content plan and the objectives outlined for the blog post on Artificial Intelligence. By incorporating the latest trends, key players, noteworthy news, and target audience analysis, I can create a compelling and informative piece that will resonate with professionals, students, and business owners interested in AI.\n",
      "\n",
      "Final Answer: \n",
      "\n",
      "# The Latest Trends in Artificial Intelligence: A Comprehensive Guide\n",
      "\n",
      "## Introduction\n",
      "Artificial Intelligence (AI) has become an integral part of our modern world, revolutionizing industries and shaping the way we interact with technology. From healthcare to finance, AI has made significant advancements in machine learning, natural language processing, and robotics. Key players in the AI industry, such as Google, Amazon, and IBM, have been at the forefront of research and development, pushing the boundaries of what is possible with AI technology.\n",
      "\n",
      "## Key Trends in AI\n",
      "The latest trends in AI are driving innovation across various sectors, with machine learning algorithms improving efficiency and accuracy in decision-making processes. Natural language processing has enabled chatbots and virtual assistants to communicate with humans in a more natural and intuitive way. Robotics has also seen significant advancements, with autonomous vehicles and drones revolutionizing transportation and logistics. AI is being used in healthcare to analyze medical images and diagnose diseases, in finance to detect fraud and optimize investments, and in marketing to personalize customer experiences and drive sales.\n",
      "\n",
      "## Key Players in AI\n",
      "Leading companies in the AI industry, such as Google, Amazon, and IBM, are investing heavily in AI research and development. Google's DeepMind has made breakthroughs in deep learning and reinforcement learning, while Amazon's Alexa has set the standard for voice-activated assistants. IBM's Watson has been instrumental in advancing AI applications in healthcare and business analytics. These companies continue to push the boundaries of AI technology and drive innovation in the field.\n",
      "\n",
      "## Noteworthy News in AI\n",
      "Recent news and breakthroughs in AI technology have captured the attention of the public, with advancements in autonomous vehicles, facial recognition, and natural language processing making headlines. The implications of these advancements on society and the economy are vast, raising questions about ethics, privacy, and job displacement. As AI continues to evolve, it is crucial for policymakers, businesses, and individuals to stay informed and engaged with the latest developments in the field.\n",
      "\n",
      "## Target Audience Analysis\n",
      "Professionals in the technology sector, students studying AI, and business owners interested in AI applications form the target audience for this blog post. They are eager to stay updated on the latest trends and news in AI, but may struggle with understanding complex concepts and staying ahead in a rapidly evolving field. By providing valuable insights and analysis, this blog post aims to educate and inform the target audience on the latest advancements in AI technology.\n",
      "\n",
      "In conclusion, Artificial Intelligence is a rapidly evolving field that is shaping the future of technology and society. By staying informed and engaged with the latest trends, key players, and news in AI, we can better understand the impact of this transformative technology on our lives. Subscribe for more updates on AI trends and news, and share this article with your network to spread awareness about the exciting advancements in Artificial Intelligence.\u001b[0m\n",
      "\n",
      "\u001b[1m> Finished chain.\u001b[0m\n",
      "\u001b[1m\u001b[92m [DEBUG]: == [Content Writer] Task output: # The Latest Trends in Artificial Intelligence: A Comprehensive Guide\n",
      "\n",
      "## Introduction\n",
      "Artificial Intelligence (AI) has become an integral part of our modern world, revolutionizing industries and shaping the way we interact with technology. From healthcare to finance, AI has made significant advancements in machine learning, natural language processing, and robotics. Key players in the AI industry, such as Google, Amazon, and IBM, have been at the forefront of research and development, pushing the boundaries of what is possible with AI technology.\n",
      "\n",
      "## Key Trends in AI\n",
      "The latest trends in AI are driving innovation across various sectors, with machine learning algorithms improving efficiency and accuracy in decision-making processes. Natural language processing has enabled chatbots and virtual assistants to communicate with humans in a more natural and intuitive way. Robotics has also seen significant advancements, with autonomous vehicles and drones revolutionizing transportation and logistics. AI is being used in healthcare to analyze medical images and diagnose diseases, in finance to detect fraud and optimize investments, and in marketing to personalize customer experiences and drive sales.\n",
      "\n",
      "## Key Players in AI\n",
      "Leading companies in the AI industry, such as Google, Amazon, and IBM, are investing heavily in AI research and development. Google's DeepMind has made breakthroughs in deep learning and reinforcement learning, while Amazon's Alexa has set the standard for voice-activated assistants. IBM's Watson has been instrumental in advancing AI applications in healthcare and business analytics. These companies continue to push the boundaries of AI technology and drive innovation in the field.\n",
      "\n",
      "## Noteworthy News in AI\n",
      "Recent news and breakthroughs in AI technology have captured the attention of the public, with advancements in autonomous vehicles, facial recognition, and natural language processing making headlines. The implications of these advancements on society and the economy are vast, raising questions about ethics, privacy, and job displacement. As AI continues to evolve, it is crucial for policymakers, businesses, and individuals to stay informed and engaged with the latest developments in the field.\n",
      "\n",
      "## Target Audience Analysis\n",
      "Professionals in the technology sector, students studying AI, and business owners interested in AI applications form the target audience for this blog post. They are eager to stay updated on the latest trends and news in AI, but may struggle with understanding complex concepts and staying ahead in a rapidly evolving field. By providing valuable insights and analysis, this blog post aims to educate and inform the target audience on the latest advancements in AI technology.\n",
      "\n",
      "In conclusion, Artificial Intelligence is a rapidly evolving field that is shaping the future of technology and society. By staying informed and engaged with the latest trends, key players, and news in AI, we can better understand the impact of this transformative technology on our lives. Subscribe for more updates on AI trends and news, and share this article with your network to spread awareness about the exciting advancements in Artificial Intelligence.\n",
      "\n",
      "\u001b[00m\n",
      "\u001b[1m\u001b[95m [DEBUG]: == Working Agent: Editor\u001b[00m\n",
      "\u001b[1m\u001b[95m [INFO]: == Starting Task: Proofread the given blog post for grammatical errors and aligment with the brand's voices.\u001b[00m\n",
      "\n",
      "\n",
      "\u001b[1m> Entering new CrewAgentExecutor chain...\u001b[0m\n",
      "\u001b[32;1m\u001b[1;3mI now can give a great answer\n",
      "\n",
      "Final Answer: \n",
      "\n",
      "# The Latest Trends in Artificial Intelligence: A Comprehensive Guide\n",
      "\n",
      "## Introduction\n",
      "Artificial Intelligence (AI) has become an integral part of our modern world, revolutionizing industries and shaping the way we interact with technology. From healthcare to finance, AI has made significant advancements in machine learning, natural language processing, and robotics. Key players in the AI industry, such as Google, Amazon, and IBM, have been at the forefront of research and development, pushing the boundaries of what is possible with AI technology.\n",
      "\n",
      "## Key Trends in AI\n",
      "The latest trends in AI are driving innovation across various sectors, with machine learning algorithms improving efficiency and accuracy in decision-making processes. Natural language processing has enabled chatbots and virtual assistants to communicate with humans in a more natural and intuitive way. Robotics has also seen significant advancements, with autonomous vehicles and drones revolutionizing transportation and logistics. AI is being used in healthcare to analyze medical images and diagnose diseases, in finance to detect fraud and optimize investments, and in marketing to personalize customer experiences and drive sales.\n",
      "\n",
      "## Key Players in AI\n",
      "Leading companies in the AI industry, such as Google, Amazon, and IBM, are investing heavily in AI research and development. Google's DeepMind has made breakthroughs in deep learning and reinforcement learning, while Amazon's Alexa has set the standard for voice-activated assistants. IBM's Watson has been instrumental in advancing AI applications in healthcare and business analytics. These companies continue to push the boundaries of AI technology and drive innovation in the field.\n",
      "\n",
      "## Noteworthy News in AI\n",
      "Recent news and breakthroughs in AI technology have captured the attention of the public, with advancements in autonomous vehicles, facial recognition, and natural language processing making headlines. The implications of these advancements on society and the economy are vast, raising questions about ethics, privacy, and job displacement. As AI continues to evolve, it is crucial for policymakers, businesses, and individuals to stay informed and engaged with the latest developments in the field.\n",
      "\n",
      "## Target Audience Analysis\n",
      "Professionals in the technology sector, students studying AI, and business owners interested in AI applications form the target audience for this blog post. They are eager to stay updated on the latest trends and news in AI, but may struggle with understanding complex concepts and staying ahead in a rapidly evolving field. By providing valuable insights and analysis, this blog post aims to educate and inform the target audience on the latest advancements in AI technology.\n",
      "\n",
      "In conclusion, Artificial Intelligence is a rapidly evolving field that is shaping the future of technology and society. By staying informed and engaged with the latest trends, key players, and news in AI, we can better understand the impact of this transformative technology on our lives. Subscribe for more updates on AI trends and news, and share this article with your network to spread awareness about the exciting advancements in Artificial Intelligence.\u001b[0m\n",
      "\n",
      "\u001b[1m> Finished chain.\u001b[0m\n",
      "\u001b[1m\u001b[92m [DEBUG]: == [Editor] Task output: # The Latest Trends in Artificial Intelligence: A Comprehensive Guide\n",
      "\n",
      "## Introduction\n",
      "Artificial Intelligence (AI) has become an integral part of our modern world, revolutionizing industries and shaping the way we interact with technology. From healthcare to finance, AI has made significant advancements in machine learning, natural language processing, and robotics. Key players in the AI industry, such as Google, Amazon, and IBM, have been at the forefront of research and development, pushing the boundaries of what is possible with AI technology.\n",
      "\n",
      "## Key Trends in AI\n",
      "The latest trends in AI are driving innovation across various sectors, with machine learning algorithms improving efficiency and accuracy in decision-making processes. Natural language processing has enabled chatbots and virtual assistants to communicate with humans in a more natural and intuitive way. Robotics has also seen significant advancements, with autonomous vehicles and drones revolutionizing transportation and logistics. AI is being used in healthcare to analyze medical images and diagnose diseases, in finance to detect fraud and optimize investments, and in marketing to personalize customer experiences and drive sales.\n",
      "\n",
      "## Key Players in AI\n",
      "Leading companies in the AI industry, such as Google, Amazon, and IBM, are investing heavily in AI research and development. Google's DeepMind has made breakthroughs in deep learning and reinforcement learning, while Amazon's Alexa has set the standard for voice-activated assistants. IBM's Watson has been instrumental in advancing AI applications in healthcare and business analytics. These companies continue to push the boundaries of AI technology and drive innovation in the field.\n",
      "\n",
      "## Noteworthy News in AI\n",
      "Recent news and breakthroughs in AI technology have captured the attention of the public, with advancements in autonomous vehicles, facial recognition, and natural language processing making headlines. The implications of these advancements on society and the economy are vast, raising questions about ethics, privacy, and job displacement. As AI continues to evolve, it is crucial for policymakers, businesses, and individuals to stay informed and engaged with the latest developments in the field.\n",
      "\n",
      "## Target Audience Analysis\n",
      "Professionals in the technology sector, students studying AI, and business owners interested in AI applications form the target audience for this blog post. They are eager to stay updated on the latest trends and news in AI, but may struggle with understanding complex concepts and staying ahead in a rapidly evolving field. By providing valuable insights and analysis, this blog post aims to educate and inform the target audience on the latest advancements in AI technology.\n",
      "\n",
      "In conclusion, Artificial Intelligence is a rapidly evolving field that is shaping the future of technology and society. By staying informed and engaged with the latest trends, key players, and news in AI, we can better understand the impact of this transformative technology on our lives. Subscribe for more updates on AI trends and news, and share this article with your network to spread awareness about the exciting advancements in Artificial Intelligence.\n",
      "\n",
      "\u001b[00m\n"
     ]
    }
   ],
   "source": [
    "result = crew.kickoff(inputs={\"topic\": \"Artificial Inteligence\"})"
   ]
  },
  {
   "cell_type": "markdown",
   "metadata": {},
   "source": [
    "O código executa a **equipe** (`crew`) através do método `kickoff` com um **input** específico.  \n",
    "\n",
    "- **`crew.kickoff(inputs={\"topic\": \"Artificial Intelligence\"})`**:  \n",
    "  - **`kickoff`**: Inicia o processo de execução das tarefas e agentes definidos na equipe.  \n",
    "  - **`inputs={\"topic\": \"Artificial Intelligence\"}`**: Passa o input para a execução das tarefas, onde o tópico do conteúdo é definido como **\"Artificial Intelligence\"**. Esse valor será usado pelos agentes para gerar o plano de conteúdo, escrever o artigo e revisar o texto.\n",
    "\n",
    "O comando executa o fluxo completo de planejamento, redação e revisão, com base no tópico fornecido, e o resultado será armazenado em `result`."
   ]
  },
  {
   "cell_type": "code",
   "execution_count": 34,
   "metadata": {},
   "outputs": [
    {
     "data": {
      "text/markdown": [
       "# The Latest Trends in Artificial Intelligence: A Comprehensive Guide\n",
       "\n",
       "## Introduction\n",
       "Artificial Intelligence (AI) has become an integral part of our modern world, revolutionizing industries and shaping the way we interact with technology. From healthcare to finance, AI has made significant advancements in machine learning, natural language processing, and robotics. Key players in the AI industry, such as Google, Amazon, and IBM, have been at the forefront of research and development, pushing the boundaries of what is possible with AI technology.\n",
       "\n",
       "## Key Trends in AI\n",
       "The latest trends in AI are driving innovation across various sectors, with machine learning algorithms improving efficiency and accuracy in decision-making processes. Natural language processing has enabled chatbots and virtual assistants to communicate with humans in a more natural and intuitive way. Robotics has also seen significant advancements, with autonomous vehicles and drones revolutionizing transportation and logistics. AI is being used in healthcare to analyze medical images and diagnose diseases, in finance to detect fraud and optimize investments, and in marketing to personalize customer experiences and drive sales.\n",
       "\n",
       "## Key Players in AI\n",
       "Leading companies in the AI industry, such as Google, Amazon, and IBM, are investing heavily in AI research and development. Google's DeepMind has made breakthroughs in deep learning and reinforcement learning, while Amazon's Alexa has set the standard for voice-activated assistants. IBM's Watson has been instrumental in advancing AI applications in healthcare and business analytics. These companies continue to push the boundaries of AI technology and drive innovation in the field.\n",
       "\n",
       "## Noteworthy News in AI\n",
       "Recent news and breakthroughs in AI technology have captured the attention of the public, with advancements in autonomous vehicles, facial recognition, and natural language processing making headlines. The implications of these advancements on society and the economy are vast, raising questions about ethics, privacy, and job displacement. As AI continues to evolve, it is crucial for policymakers, businesses, and individuals to stay informed and engaged with the latest developments in the field.\n",
       "\n",
       "## Target Audience Analysis\n",
       "Professionals in the technology sector, students studying AI, and business owners interested in AI applications form the target audience for this blog post. They are eager to stay updated on the latest trends and news in AI, but may struggle with understanding complex concepts and staying ahead in a rapidly evolving field. By providing valuable insights and analysis, this blog post aims to educate and inform the target audience on the latest advancements in AI technology.\n",
       "\n",
       "In conclusion, Artificial Intelligence is a rapidly evolving field that is shaping the future of technology and society. By staying informed and engaged with the latest trends, key players, and news in AI, we can better understand the impact of this transformative technology on our lives. Subscribe for more updates on AI trends and news, and share this article with your network to spread awareness about the exciting advancements in Artificial Intelligence."
      ],
      "text/plain": [
       "<IPython.core.display.Markdown object>"
      ]
     },
     "execution_count": 34,
     "metadata": {},
     "output_type": "execute_result"
    }
   ],
   "source": [
    "Markdown(result)"
   ]
  }
 ],
 "metadata": {
  "kernelspec": {
   "display_name": "ia_para_devs-NJoqudvH",
   "language": "python",
   "name": "python3"
  },
  "language_info": {
   "codemirror_mode": {
    "name": "ipython",
    "version": 3
   },
   "file_extension": ".py",
   "mimetype": "text/x-python",
   "name": "python",
   "nbconvert_exporter": "python",
   "pygments_lexer": "ipython3",
   "version": "3.11.9"
  }
 },
 "nbformat": 4,
 "nbformat_minor": 2
}
